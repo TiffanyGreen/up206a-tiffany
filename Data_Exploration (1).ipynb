{
 "cells": [
  {
   "cell_type": "markdown",
   "metadata": {
    "slideshow": {
     "slide_type": "slide"
    }
   },
   "source": [
    "After much struggle to get the data loaded into my Jupyterhub, I am starting over with completely fresh data, a whole new notebook, and expertly named files. Hopefully this works. Going to import Geopandas. "
   ]
  },
  {
   "cell_type": "code",
   "execution_count": 6,
   "metadata": {},
   "outputs": [],
   "source": [
    "import geopandas as gpd"
   ]
  },
  {
   "cell_type": "markdown",
   "metadata": {},
   "source": [
    "Fingers crossed that this next file brings in the data. I renamed all of the files to have underscores rather than spaces. That should help, right? "
   ]
  },
  {
   "cell_type": "code",
   "execution_count": 7,
   "metadata": {},
   "outputs": [],
   "source": [
    "district = gpd.read_file('data/lapd_reporting_district.shp')"
   ]
  },
  {
   "cell_type": "markdown",
   "metadata": {},
   "source": [
    "OMG it worked. Coding can just drain your day. I'm not entirely sure what changed. I got rid of the first dataset that wasn't working. When I uploaded the second dataset, I made sure to rename every file. Maybe the data was bad? (When I opened it previously it said it wasn't supported.) Maybe it was renaming all of the files instead of just the one I needed.  \n",
    "\n",
    "Anyway- now to actually explore the data. I chose this data to see if it would be helpful for another project I'm likely going to be working on. Trying to understand the relationship between media mentions of riots / looting or peaceful protests in the George Floyd / Breonna Taylor protests last summer. \n",
    "\n",
    "Going to start with what does the data look like."
   ]
  },
  {
   "cell_type": "code",
   "execution_count": 8,
   "metadata": {},
   "outputs": [
    {
     "data": {
      "text/plain": [
       "geopandas.geodataframe.GeoDataFrame"
      ]
     },
     "execution_count": 8,
     "metadata": {},
     "output_type": "execute_result"
    }
   ],
   "source": [
    "type (district)"
   ]
  },
  {
   "cell_type": "code",
   "execution_count": 9,
   "metadata": {},
   "outputs": [
    {
     "data": {
      "text/html": [
       "<div>\n",
       "<style scoped>\n",
       "    .dataframe tbody tr th:only-of-type {\n",
       "        vertical-align: middle;\n",
       "    }\n",
       "\n",
       "    .dataframe tbody tr th {\n",
       "        vertical-align: top;\n",
       "    }\n",
       "\n",
       "    .dataframe thead th {\n",
       "        text-align: right;\n",
       "    }\n",
       "</style>\n",
       "<table border=\"1\" class=\"dataframe\">\n",
       "  <thead>\n",
       "    <tr style=\"text-align: right;\">\n",
       "      <th></th>\n",
       "      <th>slug</th>\n",
       "      <th>set</th>\n",
       "      <th>kind</th>\n",
       "      <th>external_i</th>\n",
       "      <th>name</th>\n",
       "      <th>display_na</th>\n",
       "      <th>number</th>\n",
       "      <th>geometry</th>\n",
       "    </tr>\n",
       "  </thead>\n",
       "  <tbody>\n",
       "    <tr>\n",
       "      <th>0</th>\n",
       "      <td>1001-lapd-reporting-district</td>\n",
       "      <td>LAPD Reporting Districts</td>\n",
       "      <td>LAPD Reporting District</td>\n",
       "      <td>1001</td>\n",
       "      <td>1001</td>\n",
       "      <td>1001 LAPD Reporting District</td>\n",
       "      <td>1001</td>\n",
       "      <td>POLYGON ((-118.55357 34.22048, -118.54608 34.2...</td>\n",
       "    </tr>\n",
       "    <tr>\n",
       "      <th>1</th>\n",
       "      <td>1003-lapd-reporting-district</td>\n",
       "      <td>LAPD Reporting Districts</td>\n",
       "      <td>LAPD Reporting District</td>\n",
       "      <td>1003</td>\n",
       "      <td>1003</td>\n",
       "      <td>1003 LAPD Reporting District</td>\n",
       "      <td>1003</td>\n",
       "      <td>POLYGON ((-118.54608 34.22059, -118.53608 34.2...</td>\n",
       "    </tr>\n",
       "    <tr>\n",
       "      <th>2</th>\n",
       "      <td>1004-lapd-reporting-district</td>\n",
       "      <td>LAPD Reporting Districts</td>\n",
       "      <td>LAPD Reporting District</td>\n",
       "      <td>1004</td>\n",
       "      <td>1004</td>\n",
       "      <td>1004 LAPD Reporting District</td>\n",
       "      <td>1004</td>\n",
       "      <td>POLYGON ((-118.53608 34.22073, -118.52735 34.2...</td>\n",
       "    </tr>\n",
       "    <tr>\n",
       "      <th>3</th>\n",
       "      <td>1005-lapd-reporting-district</td>\n",
       "      <td>LAPD Reporting Districts</td>\n",
       "      <td>LAPD Reporting District</td>\n",
       "      <td>1005</td>\n",
       "      <td>1005</td>\n",
       "      <td>1005 LAPD Reporting District</td>\n",
       "      <td>1005</td>\n",
       "      <td>POLYGON ((-118.52735 34.22087, -118.51862 34.2...</td>\n",
       "    </tr>\n",
       "    <tr>\n",
       "      <th>4</th>\n",
       "      <td>1006-lapd-reporting-district</td>\n",
       "      <td>LAPD Reporting Districts</td>\n",
       "      <td>LAPD Reporting District</td>\n",
       "      <td>1006</td>\n",
       "      <td>1006</td>\n",
       "      <td>1006 LAPD Reporting District</td>\n",
       "      <td>1006</td>\n",
       "      <td>POLYGON ((-118.51862 34.22101, -118.50987 34.2...</td>\n",
       "    </tr>\n",
       "  </tbody>\n",
       "</table>\n",
       "</div>"
      ],
      "text/plain": [
       "                           slug                       set  \\\n",
       "0  1001-lapd-reporting-district  LAPD Reporting Districts   \n",
       "1  1003-lapd-reporting-district  LAPD Reporting Districts   \n",
       "2  1004-lapd-reporting-district  LAPD Reporting Districts   \n",
       "3  1005-lapd-reporting-district  LAPD Reporting Districts   \n",
       "4  1006-lapd-reporting-district  LAPD Reporting Districts   \n",
       "\n",
       "                      kind external_i  name                    display_na  \\\n",
       "0  LAPD Reporting District       1001  1001  1001 LAPD Reporting District   \n",
       "1  LAPD Reporting District       1003  1003  1003 LAPD Reporting District   \n",
       "2  LAPD Reporting District       1004  1004  1004 LAPD Reporting District   \n",
       "3  LAPD Reporting District       1005  1005  1005 LAPD Reporting District   \n",
       "4  LAPD Reporting District       1006  1006  1006 LAPD Reporting District   \n",
       "\n",
       "  number                                           geometry  \n",
       "0   1001  POLYGON ((-118.55357 34.22048, -118.54608 34.2...  \n",
       "1   1003  POLYGON ((-118.54608 34.22059, -118.53608 34.2...  \n",
       "2   1004  POLYGON ((-118.53608 34.22073, -118.52735 34.2...  \n",
       "3   1005  POLYGON ((-118.52735 34.22087, -118.51862 34.2...  \n",
       "4   1006  POLYGON ((-118.51862 34.22101, -118.50987 34.2...  "
      ]
     },
     "execution_count": 9,
     "metadata": {},
     "output_type": "execute_result"
    }
   ],
   "source": [
    "district.head()"
   ]
  },
  {
   "cell_type": "markdown",
   "metadata": {},
   "source": [
    "I wonder why they chose 'slug' as the title for their first column. These last two lines of code showed me that this file contains a dataframe with geographic information, and then showed me what the dataframe looks like. So we have the reporting districts, their names, and the polygons outlining the districts. I'm unsure what external_i is and how that differs from name. \n",
    "\n",
    "I would like to see how many districts there are, so I'm going to use the tail function. "
   ]
  },
  {
   "cell_type": "code",
   "execution_count": 10,
   "metadata": {},
   "outputs": [
    {
     "data": {
      "text/html": [
       "<div>\n",
       "<style scoped>\n",
       "    .dataframe tbody tr th:only-of-type {\n",
       "        vertical-align: middle;\n",
       "    }\n",
       "\n",
       "    .dataframe tbody tr th {\n",
       "        vertical-align: top;\n",
       "    }\n",
       "\n",
       "    .dataframe thead th {\n",
       "        text-align: right;\n",
       "    }\n",
       "</style>\n",
       "<table border=\"1\" class=\"dataframe\">\n",
       "  <thead>\n",
       "    <tr style=\"text-align: right;\">\n",
       "      <th></th>\n",
       "      <th>slug</th>\n",
       "      <th>set</th>\n",
       "      <th>kind</th>\n",
       "      <th>external_i</th>\n",
       "      <th>name</th>\n",
       "      <th>display_na</th>\n",
       "      <th>number</th>\n",
       "      <th>geometry</th>\n",
       "    </tr>\n",
       "  </thead>\n",
       "  <tbody>\n",
       "    <tr>\n",
       "      <th>1130</th>\n",
       "      <td>985-lapd-reporting-district</td>\n",
       "      <td>LAPD Reporting Districts</td>\n",
       "      <td>LAPD Reporting District</td>\n",
       "      <td>985</td>\n",
       "      <td>985</td>\n",
       "      <td>985 LAPD Reporting District</td>\n",
       "      <td>985</td>\n",
       "      <td>POLYGON ((-118.44871 34.15690, -118.44521 34.1...</td>\n",
       "    </tr>\n",
       "    <tr>\n",
       "      <th>1131</th>\n",
       "      <td>989-lapd-reporting-district</td>\n",
       "      <td>LAPD Reporting Districts</td>\n",
       "      <td>LAPD Reporting District</td>\n",
       "      <td>989</td>\n",
       "      <td>989</td>\n",
       "      <td>989 LAPD Reporting District</td>\n",
       "      <td>989</td>\n",
       "      <td>POLYGON ((-118.43656 34.15566, -118.43123 34.1...</td>\n",
       "    </tr>\n",
       "    <tr>\n",
       "      <th>1132</th>\n",
       "      <td>991-lapd-reporting-district</td>\n",
       "      <td>LAPD Reporting Districts</td>\n",
       "      <td>LAPD Reporting District</td>\n",
       "      <td>991</td>\n",
       "      <td>991</td>\n",
       "      <td>991 LAPD Reporting District</td>\n",
       "      <td>991</td>\n",
       "      <td>POLYGON ((-118.46935 34.14847, -118.46802 34.1...</td>\n",
       "    </tr>\n",
       "    <tr>\n",
       "      <th>1133</th>\n",
       "      <td>994-lapd-reporting-district</td>\n",
       "      <td>LAPD Reporting Districts</td>\n",
       "      <td>LAPD Reporting District</td>\n",
       "      <td>994</td>\n",
       "      <td>994</td>\n",
       "      <td>994 LAPD Reporting District</td>\n",
       "      <td>994</td>\n",
       "      <td>POLYGON ((-118.44658 34.14549, -118.44604 34.1...</td>\n",
       "    </tr>\n",
       "    <tr>\n",
       "      <th>1134</th>\n",
       "      <td>998-lapd-reporting-district</td>\n",
       "      <td>LAPD Reporting Districts</td>\n",
       "      <td>LAPD Reporting District</td>\n",
       "      <td>998</td>\n",
       "      <td>998</td>\n",
       "      <td>998 LAPD Reporting District</td>\n",
       "      <td>998</td>\n",
       "      <td>POLYGON ((-118.42249 34.14920, -118.42249 34.1...</td>\n",
       "    </tr>\n",
       "  </tbody>\n",
       "</table>\n",
       "</div>"
      ],
      "text/plain": [
       "                             slug                       set  \\\n",
       "1130  985-lapd-reporting-district  LAPD Reporting Districts   \n",
       "1131  989-lapd-reporting-district  LAPD Reporting Districts   \n",
       "1132  991-lapd-reporting-district  LAPD Reporting Districts   \n",
       "1133  994-lapd-reporting-district  LAPD Reporting Districts   \n",
       "1134  998-lapd-reporting-district  LAPD Reporting Districts   \n",
       "\n",
       "                         kind external_i name                   display_na  \\\n",
       "1130  LAPD Reporting District        985  985  985 LAPD Reporting District   \n",
       "1131  LAPD Reporting District        989  989  989 LAPD Reporting District   \n",
       "1132  LAPD Reporting District        991  991  991 LAPD Reporting District   \n",
       "1133  LAPD Reporting District        994  994  994 LAPD Reporting District   \n",
       "1134  LAPD Reporting District        998  998  998 LAPD Reporting District   \n",
       "\n",
       "     number                                           geometry  \n",
       "1130    985  POLYGON ((-118.44871 34.15690, -118.44521 34.1...  \n",
       "1131    989  POLYGON ((-118.43656 34.15566, -118.43123 34.1...  \n",
       "1132    991  POLYGON ((-118.46935 34.14847, -118.46802 34.1...  \n",
       "1133    994  POLYGON ((-118.44658 34.14549, -118.44604 34.1...  \n",
       "1134    998  POLYGON ((-118.42249 34.14920, -118.42249 34.1...  "
      ]
     },
     "execution_count": 10,
     "metadata": {},
     "output_type": "execute_result"
    }
   ],
   "source": [
    "district.tail()"
   ]
  },
  {
   "cell_type": "markdown",
   "metadata": {},
   "source": [
    "Oh, so it seems like there's a lot. But they don't seem to be named with consecutive numbers. So perhaps the tail function isn't best suited to find how many. Probably a count function. "
   ]
  },
  {
   "cell_type": "code",
   "execution_count": 11,
   "metadata": {},
   "outputs": [
    {
     "data": {
      "text/plain": [
       "slug          1135\n",
       "set           1135\n",
       "kind          1135\n",
       "external_i    1135\n",
       "name          1135\n",
       "display_na    1135\n",
       "number        1135\n",
       "geometry      1135\n",
       "dtype: int64"
      ]
     },
     "execution_count": 11,
     "metadata": {},
     "output_type": "execute_result"
    }
   ],
   "source": [
    "district.count()"
   ]
  },
  {
   "cell_type": "markdown",
   "metadata": {},
   "source": [
    "As an aside: I'm trying to figure out how to use shortcuts for changing to markdown cell. Command + M completely minimizes the file. "
   ]
  },
  {
   "cell_type": "markdown",
   "metadata": {},
   "source": [
    "Ok, so esc > m will give you the markdown on a mac. And the esc > y for a code cell. "
   ]
  },
  {
   "cell_type": "markdown",
   "metadata": {},
   "source": [
    "What is the difference between .count and .value_counts? "
   ]
  },
  {
   "cell_type": "code",
   "execution_count": 12,
   "metadata": {},
   "outputs": [
    {
     "ename": "AttributeError",
     "evalue": "'GeoDataFrame' object has no attribute 'value_counts'",
     "output_type": "error",
     "traceback": [
      "\u001b[0;31m---------------------------------------------------------------------------\u001b[0m",
      "\u001b[0;31mAttributeError\u001b[0m                            Traceback (most recent call last)",
      "\u001b[0;32m<ipython-input-12-b263717b76e2>\u001b[0m in \u001b[0;36m<module>\u001b[0;34m\u001b[0m\n\u001b[1;32m      1\u001b[0m \u001b[0;31m#sends an error.\u001b[0m\u001b[0;34m\u001b[0m\u001b[0;34m\u001b[0m\u001b[0;34m\u001b[0m\u001b[0m\n\u001b[0;32m----> 2\u001b[0;31m \u001b[0mdistrict\u001b[0m\u001b[0;34m.\u001b[0m\u001b[0mvalue_counts\u001b[0m\u001b[0;34m(\u001b[0m\u001b[0;34m)\u001b[0m\u001b[0;34m\u001b[0m\u001b[0;34m\u001b[0m\u001b[0m\n\u001b[0m",
      "\u001b[0;32m/opt/conda/lib/python3.8/site-packages/pandas/core/generic.py\u001b[0m in \u001b[0;36m__getattr__\u001b[0;34m(self, name)\u001b[0m\n\u001b[1;32m   5272\u001b[0m             \u001b[0;32mif\u001b[0m \u001b[0mself\u001b[0m\u001b[0;34m.\u001b[0m\u001b[0m_info_axis\u001b[0m\u001b[0;34m.\u001b[0m\u001b[0m_can_hold_identifiers_and_holds_name\u001b[0m\u001b[0;34m(\u001b[0m\u001b[0mname\u001b[0m\u001b[0;34m)\u001b[0m\u001b[0;34m:\u001b[0m\u001b[0;34m\u001b[0m\u001b[0;34m\u001b[0m\u001b[0m\n\u001b[1;32m   5273\u001b[0m                 \u001b[0;32mreturn\u001b[0m \u001b[0mself\u001b[0m\u001b[0;34m[\u001b[0m\u001b[0mname\u001b[0m\u001b[0;34m]\u001b[0m\u001b[0;34m\u001b[0m\u001b[0;34m\u001b[0m\u001b[0m\n\u001b[0;32m-> 5274\u001b[0;31m             \u001b[0;32mreturn\u001b[0m \u001b[0mobject\u001b[0m\u001b[0;34m.\u001b[0m\u001b[0m__getattribute__\u001b[0m\u001b[0;34m(\u001b[0m\u001b[0mself\u001b[0m\u001b[0;34m,\u001b[0m \u001b[0mname\u001b[0m\u001b[0;34m)\u001b[0m\u001b[0;34m\u001b[0m\u001b[0;34m\u001b[0m\u001b[0m\n\u001b[0m\u001b[1;32m   5275\u001b[0m \u001b[0;34m\u001b[0m\u001b[0m\n\u001b[1;32m   5276\u001b[0m     \u001b[0;32mdef\u001b[0m \u001b[0m__setattr__\u001b[0m\u001b[0;34m(\u001b[0m\u001b[0mself\u001b[0m\u001b[0;34m,\u001b[0m \u001b[0mname\u001b[0m\u001b[0;34m:\u001b[0m \u001b[0mstr\u001b[0m\u001b[0;34m,\u001b[0m \u001b[0mvalue\u001b[0m\u001b[0;34m)\u001b[0m \u001b[0;34m->\u001b[0m \u001b[0;32mNone\u001b[0m\u001b[0;34m:\u001b[0m\u001b[0;34m\u001b[0m\u001b[0;34m\u001b[0m\u001b[0m\n",
      "\u001b[0;31mAttributeError\u001b[0m: 'GeoDataFrame' object has no attribute 'value_counts'"
     ]
    }
   ],
   "source": [
    "#sends an error. \n",
    "district.value_counts()"
   ]
  },
  {
   "cell_type": "markdown",
   "metadata": {},
   "source": [
    ".value_counts() sends an error. It's listed as one of the commands to specifically try in the assignment, so perhaps I need to try it after I plot the data? \n",
    "\n",
    "Moving along. Going to see what the shape of the dataframe is. "
   ]
  },
  {
   "cell_type": "code",
   "execution_count": 13,
   "metadata": {},
   "outputs": [
    {
     "data": {
      "text/plain": [
       "(1135, 8)"
      ]
     },
     "execution_count": 13,
     "metadata": {},
     "output_type": "execute_result"
    }
   ],
   "source": [
    "district.shape"
   ]
  },
  {
   "cell_type": "markdown",
   "metadata": {},
   "source": [
    "The shape command doesn't need the parenthesis after. The shape basically shows what I was able to find through the .head and .count."
   ]
  },
  {
   "cell_type": "markdown",
   "metadata": {},
   "source": [
    "Going to find the info for the dataframe. "
   ]
  },
  {
   "cell_type": "code",
   "execution_count": 14,
   "metadata": {},
   "outputs": [
    {
     "data": {
      "text/plain": [
       "<bound method DataFrame.info of                               slug                       set  \\\n",
       "0     1001-lapd-reporting-district  LAPD Reporting Districts   \n",
       "1     1003-lapd-reporting-district  LAPD Reporting Districts   \n",
       "2     1004-lapd-reporting-district  LAPD Reporting Districts   \n",
       "3     1005-lapd-reporting-district  LAPD Reporting Districts   \n",
       "4     1006-lapd-reporting-district  LAPD Reporting Districts   \n",
       "...                            ...                       ...   \n",
       "1130   985-lapd-reporting-district  LAPD Reporting Districts   \n",
       "1131   989-lapd-reporting-district  LAPD Reporting Districts   \n",
       "1132   991-lapd-reporting-district  LAPD Reporting Districts   \n",
       "1133   994-lapd-reporting-district  LAPD Reporting Districts   \n",
       "1134   998-lapd-reporting-district  LAPD Reporting Districts   \n",
       "\n",
       "                         kind external_i  name                    display_na  \\\n",
       "0     LAPD Reporting District       1001  1001  1001 LAPD Reporting District   \n",
       "1     LAPD Reporting District       1003  1003  1003 LAPD Reporting District   \n",
       "2     LAPD Reporting District       1004  1004  1004 LAPD Reporting District   \n",
       "3     LAPD Reporting District       1005  1005  1005 LAPD Reporting District   \n",
       "4     LAPD Reporting District       1006  1006  1006 LAPD Reporting District   \n",
       "...                       ...        ...   ...                           ...   \n",
       "1130  LAPD Reporting District        985   985   985 LAPD Reporting District   \n",
       "1131  LAPD Reporting District        989   989   989 LAPD Reporting District   \n",
       "1132  LAPD Reporting District        991   991   991 LAPD Reporting District   \n",
       "1133  LAPD Reporting District        994   994   994 LAPD Reporting District   \n",
       "1134  LAPD Reporting District        998   998   998 LAPD Reporting District   \n",
       "\n",
       "     number                                           geometry  \n",
       "0      1001  POLYGON ((-118.55357 34.22048, -118.54608 34.2...  \n",
       "1      1003  POLYGON ((-118.54608 34.22059, -118.53608 34.2...  \n",
       "2      1004  POLYGON ((-118.53608 34.22073, -118.52735 34.2...  \n",
       "3      1005  POLYGON ((-118.52735 34.22087, -118.51862 34.2...  \n",
       "4      1006  POLYGON ((-118.51862 34.22101, -118.50987 34.2...  \n",
       "...     ...                                                ...  \n",
       "1130    985  POLYGON ((-118.44871 34.15690, -118.44521 34.1...  \n",
       "1131    989  POLYGON ((-118.43656 34.15566, -118.43123 34.1...  \n",
       "1132    991  POLYGON ((-118.46935 34.14847, -118.46802 34.1...  \n",
       "1133    994  POLYGON ((-118.44658 34.14549, -118.44604 34.1...  \n",
       "1134    998  POLYGON ((-118.42249 34.14920, -118.42249 34.1...  \n",
       "\n",
       "[1135 rows x 8 columns]>"
      ]
     },
     "execution_count": 14,
     "metadata": {},
     "output_type": "execute_result"
    }
   ],
   "source": [
    "district.info"
   ]
  },
  {
   "cell_type": "markdown",
   "metadata": {},
   "source": [
    "I would imagine that each of the names are unique, but let's check. Using the value_counts correctly here. "
   ]
  },
  {
   "cell_type": "code",
   "execution_count": 15,
   "metadata": {},
   "outputs": [
    {
     "data": {
      "text/plain": [
       "826     1\n",
       "979     1\n",
       "1533    1\n",
       "1605    1\n",
       "1091    1\n",
       "       ..\n",
       "626     1\n",
       "2071    1\n",
       "1101    1\n",
       "2014    1\n",
       "723     1\n",
       "Name: name, Length: 1135, dtype: int64"
      ]
     },
     "execution_count": 15,
     "metadata": {},
     "output_type": "execute_result"
    }
   ],
   "source": [
    "district['name'].value_counts()"
   ]
  },
  {
   "cell_type": "raw",
   "metadata": {},
   "source": [
    "Sure enough, there are 1135 names in the data. I'm ready to see what it looks like. "
   ]
  },
  {
   "cell_type": "markdown",
   "metadata": {},
   "source": [
    "I've been trying to plot this (plotting this data is totally unnecessary, but plotting would be helpful for other data.)  but I don't think I can plot from a dataframe? Not sure. But going to change the columns into a list like in class. "
   ]
  },
  {
   "cell_type": "code",
   "execution_count": 16,
   "metadata": {},
   "outputs": [],
   "source": [
    "name_count= district['name'].value_counts()"
   ]
  },
  {
   "cell_type": "code",
   "execution_count": 17,
   "metadata": {},
   "outputs": [
    {
     "data": {
      "text/plain": [
       "826     1\n",
       "979     1\n",
       "1533    1\n",
       "1605    1\n",
       "1091    1\n",
       "       ..\n",
       "626     1\n",
       "2071    1\n",
       "1101    1\n",
       "2014    1\n",
       "723     1\n",
       "Name: name, Length: 1135, dtype: int64"
      ]
     },
     "execution_count": 17,
     "metadata": {},
     "output_type": "execute_result"
    }
   ],
   "source": [
    "name_count"
   ]
  },
  {
   "cell_type": "markdown",
   "metadata": {},
   "source": [
    "Had to set up a variable for the value counts so that then i can plot it. "
   ]
  },
  {
   "cell_type": "code",
   "execution_count": 18,
   "metadata": {},
   "outputs": [
    {
     "data": {
      "text/plain": [
       "<matplotlib.axes._subplots.AxesSubplot at 0x7fd7ef1d5e80>"
      ]
     },
     "execution_count": 18,
     "metadata": {},
     "output_type": "execute_result"
    },
    {
     "data": {
      "image/png": "[encoded data removed]",
      "text/plain": [
       "<Figure size 432x288 with 1 Axes>"
      ]
     },
     "metadata": {
      "needs_background": "light"
     },
     "output_type": "display_data"
    }
   ],
   "source": [
    "name_count.plot()"
   ]
  },
  {
   "cell_type": "markdown",
   "metadata": {},
   "source": [
    "Yes, as expected the plot was just a straight line because the its the name of the districts. "
   ]
  },
  {
   "cell_type": "markdown",
   "metadata": {},
   "source": [
    "Want to find the districts named 1135. "
   ]
  },
  {
   "cell_type": "code",
   "execution_count": 24,
   "metadata": {
    "slideshow": {
     "slide_type": "slide"
    }
   },
   "outputs": [
    {
     "name": "stdout",
     "output_type": "stream",
     "text": [
      "<class 'geopandas.geodataframe.GeoDataFrame'>\n",
      "RangeIndex: 1135 entries, 0 to 1134\n",
      "Data columns (total 8 columns):\n",
      " #   Column      Non-Null Count  Dtype   \n",
      "---  ------      --------------  -----   \n",
      " 0   slug        1135 non-null   object  \n",
      " 1   set         1135 non-null   object  \n",
      " 2   kind        1135 non-null   object  \n",
      " 3   external_i  1135 non-null   object  \n",
      " 4   name        1135 non-null   object  \n",
      " 5   display_na  1135 non-null   object  \n",
      " 6   number      1135 non-null   object  \n",
      " 7   geometry    1135 non-null   geometry\n",
      "dtypes: geometry(1), object(7)\n",
      "memory usage: 71.1+ KB\n"
     ]
    }
   ],
   "source": [
    "district.info()"
   ]
  },
  {
   "cell_type": "code",
   "execution_count": 34,
   "metadata": {
    "scrolled": true
   },
   "outputs": [],
   "source": [
    "district['name'] = district['name'].astype(\"|S\")"
   ]
  },
  {
   "cell_type": "markdown",
   "metadata": {},
   "source": [
    "I needed to change my data to a string so I can query. I tried this^ but am still getting object when I run the info() again. "
   ]
  },
  {
   "cell_type": "code",
   "execution_count": 39,
   "metadata": {},
   "outputs": [
    {
     "data": {
      "text/html": [
       "<div>\n",
       "<style scoped>\n",
       "    .dataframe tbody tr th:only-of-type {\n",
       "        vertical-align: middle;\n",
       "    }\n",
       "\n",
       "    .dataframe tbody tr th {\n",
       "        vertical-align: top;\n",
       "    }\n",
       "\n",
       "    .dataframe thead th {\n",
       "        text-align: right;\n",
       "    }\n",
       "</style>\n",
       "<table border=\"1\" class=\"dataframe\">\n",
       "  <thead>\n",
       "    <tr style=\"text-align: right;\">\n",
       "      <th></th>\n",
       "      <th>slug</th>\n",
       "      <th>set</th>\n",
       "      <th>kind</th>\n",
       "      <th>external_i</th>\n",
       "      <th>name</th>\n",
       "      <th>display_na</th>\n",
       "      <th>number</th>\n",
       "      <th>geometry</th>\n",
       "    </tr>\n",
       "  </thead>\n",
       "  <tbody>\n",
       "  </tbody>\n",
       "</table>\n",
       "</div>"
      ],
      "text/plain": [
       "Empty GeoDataFrame\n",
       "Columns: [slug, set, kind, external_i, name, display_na, number, geometry]\n",
       "Index: []"
      ]
     },
     "execution_count": 39,
     "metadata": {},
     "output_type": "execute_result"
    }
   ],
   "source": [
    "district[district.name == \"1135\"]"
   ]
  },
  {
   "cell_type": "markdown",
   "metadata": {
    "slideshow": {
     "slide_type": "slide"
    }
   },
   "source": []
  },
  {
   "cell_type": "code",
   "execution_count": null,
   "metadata": {},
   "outputs": [],
   "source": []
  }
 ],
 "metadata": {
  "kernelspec": {
   "display_name": "Python 3",
   "language": "python",
   "name": "python3"
  },
  "language_info": {
   "codemirror_mode": {
    "name": "ipython",
    "version": 3
   },
   "file_extension": ".py",
   "mimetype": "text/x-python",
   "name": "python",
   "nbconvert_exporter": "python",
   "pygments_lexer": "ipython3",
   "version": "3.8.5"
  },
  "toc": {
   "base_numbering": 1,
   "nav_menu": {},
   "number_sections": true,
   "sideBar": true,
   "skip_h1_title": false,
   "title_cell": "Table of Contents",
   "title_sidebar": "Contents",
   "toc_cell": false,
   "toc_position": {},
   "toc_section_display": true,
   "toc_window_display": false
  }
 },
 "nbformat": 4,
 "nbformat_minor": 4
}
